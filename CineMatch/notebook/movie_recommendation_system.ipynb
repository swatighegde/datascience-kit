{
 "cells": [
  {
   "cell_type": "markdown",
   "id": "1b56f6b2-d903-4f79-855f-ebcf822e0cb5",
   "metadata": {},
   "source": [
    "# CineMatch – Personalized Movie Recommendation System"
   ]
  },
  {
   "cell_type": "code",
   "execution_count": 1,
   "id": "91fbd8bd-17f4-4d72-a4c7-2cc6aefe55e8",
   "metadata": {},
   "outputs": [],
   "source": [
    "# Import the libraries\n",
    "\n",
    "import pandas as pd\n",
    "import numpy as np\n",
    "import matplotlib.pyplot as plt\n",
    "import seaborn as sns\n",
    "from sklearn.feature_extraction.text import TfidfVectorizer\n",
    "from sklearn.metrics.pairwise import cosine_similarity"
   ]
  },
  {
   "cell_type": "markdown",
   "id": "a7d65002-eaee-4015-9d2c-01bdd4d20ad0",
   "metadata": {},
   "source": [
    "## 1. Data Acquisition and Loading"
   ]
  },
  {
   "cell_type": "code",
   "execution_count": 2,
   "id": "ebf6d7b2-8576-468a-a22d-b7ac862eaf8b",
   "metadata": {},
   "outputs": [],
   "source": [
    "# Load dataset  and create a dataframes\n",
    "movies = pd.read_csv(\"../data/movies.csv\")\n",
    "ratings = pd.read_csv(\"../data/ratings.csv\")\n",
    "tags = pd.read_csv(\"../data/tags.csv\")\n",
    " \n",
    "\n",
    "movies[\"genres\"] = movies[\"genres\"].replace(\"(no genres listed)\", \"Other\").fillna(\"\")\n"
   ]
  },
  {
   "cell_type": "code",
   "execution_count": 3,
   "id": "f0e1ec06-5a3c-447d-bcf7-4d050e86b267",
   "metadata": {},
   "outputs": [
    {
     "name": "stdout",
     "output_type": "stream",
     "text": [
      "First five rows of the Movies dataset:\n"
     ]
    },
    {
     "data": {
      "text/html": [
       "<div>\n",
       "<style scoped>\n",
       "    .dataframe tbody tr th:only-of-type {\n",
       "        vertical-align: middle;\n",
       "    }\n",
       "\n",
       "    .dataframe tbody tr th {\n",
       "        vertical-align: top;\n",
       "    }\n",
       "\n",
       "    .dataframe thead th {\n",
       "        text-align: right;\n",
       "    }\n",
       "</style>\n",
       "<table border=\"1\" class=\"dataframe\">\n",
       "  <thead>\n",
       "    <tr style=\"text-align: right;\">\n",
       "      <th></th>\n",
       "      <th>movieId</th>\n",
       "      <th>title</th>\n",
       "      <th>genres</th>\n",
       "    </tr>\n",
       "  </thead>\n",
       "  <tbody>\n",
       "    <tr>\n",
       "      <th>0</th>\n",
       "      <td>1</td>\n",
       "      <td>Toy Story (1995)</td>\n",
       "      <td>Adventure|Animation|Children|Comedy|Fantasy</td>\n",
       "    </tr>\n",
       "    <tr>\n",
       "      <th>1</th>\n",
       "      <td>2</td>\n",
       "      <td>Jumanji (1995)</td>\n",
       "      <td>Adventure|Children|Fantasy</td>\n",
       "    </tr>\n",
       "    <tr>\n",
       "      <th>2</th>\n",
       "      <td>3</td>\n",
       "      <td>Grumpier Old Men (1995)</td>\n",
       "      <td>Comedy|Romance</td>\n",
       "    </tr>\n",
       "    <tr>\n",
       "      <th>3</th>\n",
       "      <td>4</td>\n",
       "      <td>Waiting to Exhale (1995)</td>\n",
       "      <td>Comedy|Drama|Romance</td>\n",
       "    </tr>\n",
       "    <tr>\n",
       "      <th>4</th>\n",
       "      <td>5</td>\n",
       "      <td>Father of the Bride Part II (1995)</td>\n",
       "      <td>Comedy</td>\n",
       "    </tr>\n",
       "  </tbody>\n",
       "</table>\n",
       "</div>"
      ],
      "text/plain": [
       "   movieId                               title  \\\n",
       "0        1                    Toy Story (1995)   \n",
       "1        2                      Jumanji (1995)   \n",
       "2        3             Grumpier Old Men (1995)   \n",
       "3        4            Waiting to Exhale (1995)   \n",
       "4        5  Father of the Bride Part II (1995)   \n",
       "\n",
       "                                        genres  \n",
       "0  Adventure|Animation|Children|Comedy|Fantasy  \n",
       "1                   Adventure|Children|Fantasy  \n",
       "2                               Comedy|Romance  \n",
       "3                         Comedy|Drama|Romance  \n",
       "4                                       Comedy  "
      ]
     },
     "execution_count": 3,
     "metadata": {},
     "output_type": "execute_result"
    }
   ],
   "source": [
    "print(\"First five rows of the Movies dataset:\")\n",
    "movies.head(5)"
   ]
  },
  {
   "cell_type": "code",
   "execution_count": 4,
   "id": "9e31c801-702a-4447-bbf6-0d4d8cb6d133",
   "metadata": {},
   "outputs": [
    {
     "name": "stdout",
     "output_type": "stream",
     "text": [
      "First five rows of the Ratings dataset:\n"
     ]
    },
    {
     "data": {
      "text/html": [
       "<div>\n",
       "<style scoped>\n",
       "    .dataframe tbody tr th:only-of-type {\n",
       "        vertical-align: middle;\n",
       "    }\n",
       "\n",
       "    .dataframe tbody tr th {\n",
       "        vertical-align: top;\n",
       "    }\n",
       "\n",
       "    .dataframe thead th {\n",
       "        text-align: right;\n",
       "    }\n",
       "</style>\n",
       "<table border=\"1\" class=\"dataframe\">\n",
       "  <thead>\n",
       "    <tr style=\"text-align: right;\">\n",
       "      <th></th>\n",
       "      <th>userId</th>\n",
       "      <th>movieId</th>\n",
       "      <th>rating</th>\n",
       "      <th>timestamp</th>\n",
       "    </tr>\n",
       "  </thead>\n",
       "  <tbody>\n",
       "    <tr>\n",
       "      <th>0</th>\n",
       "      <td>1</td>\n",
       "      <td>1</td>\n",
       "      <td>4.0</td>\n",
       "      <td>964982703</td>\n",
       "    </tr>\n",
       "    <tr>\n",
       "      <th>1</th>\n",
       "      <td>1</td>\n",
       "      <td>3</td>\n",
       "      <td>4.0</td>\n",
       "      <td>964981247</td>\n",
       "    </tr>\n",
       "    <tr>\n",
       "      <th>2</th>\n",
       "      <td>1</td>\n",
       "      <td>6</td>\n",
       "      <td>4.0</td>\n",
       "      <td>964982224</td>\n",
       "    </tr>\n",
       "    <tr>\n",
       "      <th>3</th>\n",
       "      <td>1</td>\n",
       "      <td>47</td>\n",
       "      <td>5.0</td>\n",
       "      <td>964983815</td>\n",
       "    </tr>\n",
       "    <tr>\n",
       "      <th>4</th>\n",
       "      <td>1</td>\n",
       "      <td>50</td>\n",
       "      <td>5.0</td>\n",
       "      <td>964982931</td>\n",
       "    </tr>\n",
       "  </tbody>\n",
       "</table>\n",
       "</div>"
      ],
      "text/plain": [
       "   userId  movieId  rating  timestamp\n",
       "0       1        1     4.0  964982703\n",
       "1       1        3     4.0  964981247\n",
       "2       1        6     4.0  964982224\n",
       "3       1       47     5.0  964983815\n",
       "4       1       50     5.0  964982931"
      ]
     },
     "execution_count": 4,
     "metadata": {},
     "output_type": "execute_result"
    }
   ],
   "source": [
    "print(\"First five rows of the Ratings dataset:\")\n",
    "ratings.head(5)"
   ]
  },
  {
   "cell_type": "code",
   "execution_count": 5,
   "id": "d097d1ef-4d80-4741-b3e6-edfdd6b27e4d",
   "metadata": {},
   "outputs": [
    {
     "name": "stdout",
     "output_type": "stream",
     "text": [
      "First five rows of the Tags dataset:\n"
     ]
    },
    {
     "data": {
      "text/html": [
       "<div>\n",
       "<style scoped>\n",
       "    .dataframe tbody tr th:only-of-type {\n",
       "        vertical-align: middle;\n",
       "    }\n",
       "\n",
       "    .dataframe tbody tr th {\n",
       "        vertical-align: top;\n",
       "    }\n",
       "\n",
       "    .dataframe thead th {\n",
       "        text-align: right;\n",
       "    }\n",
       "</style>\n",
       "<table border=\"1\" class=\"dataframe\">\n",
       "  <thead>\n",
       "    <tr style=\"text-align: right;\">\n",
       "      <th></th>\n",
       "      <th>userId</th>\n",
       "      <th>movieId</th>\n",
       "      <th>tag</th>\n",
       "      <th>timestamp</th>\n",
       "    </tr>\n",
       "  </thead>\n",
       "  <tbody>\n",
       "    <tr>\n",
       "      <th>0</th>\n",
       "      <td>2</td>\n",
       "      <td>60756</td>\n",
       "      <td>funny</td>\n",
       "      <td>1445714994</td>\n",
       "    </tr>\n",
       "    <tr>\n",
       "      <th>1</th>\n",
       "      <td>2</td>\n",
       "      <td>60756</td>\n",
       "      <td>Highly quotable</td>\n",
       "      <td>1445714996</td>\n",
       "    </tr>\n",
       "    <tr>\n",
       "      <th>2</th>\n",
       "      <td>2</td>\n",
       "      <td>60756</td>\n",
       "      <td>will ferrell</td>\n",
       "      <td>1445714992</td>\n",
       "    </tr>\n",
       "    <tr>\n",
       "      <th>3</th>\n",
       "      <td>2</td>\n",
       "      <td>89774</td>\n",
       "      <td>Boxing story</td>\n",
       "      <td>1445715207</td>\n",
       "    </tr>\n",
       "    <tr>\n",
       "      <th>4</th>\n",
       "      <td>2</td>\n",
       "      <td>89774</td>\n",
       "      <td>MMA</td>\n",
       "      <td>1445715200</td>\n",
       "    </tr>\n",
       "  </tbody>\n",
       "</table>\n",
       "</div>"
      ],
      "text/plain": [
       "   userId  movieId              tag   timestamp\n",
       "0       2    60756            funny  1445714994\n",
       "1       2    60756  Highly quotable  1445714996\n",
       "2       2    60756     will ferrell  1445714992\n",
       "3       2    89774     Boxing story  1445715207\n",
       "4       2    89774              MMA  1445715200"
      ]
     },
     "execution_count": 5,
     "metadata": {},
     "output_type": "execute_result"
    }
   ],
   "source": [
    "print(\"First five rows of the Tags dataset:\")\n",
    "tags.head(5)"
   ]
  },
  {
   "cell_type": "code",
   "execution_count": null,
   "id": "b6f4277b-4042-41cd-ba55-02f9fded20d6",
   "metadata": {},
   "outputs": [],
   "source": []
  },
  {
   "cell_type": "markdown",
   "id": "260a3a32-1f4a-4da4-b749-8009c14c8046",
   "metadata": {},
   "source": [
    "## 2. EDA with Visualizations"
   ]
  },
  {
   "cell_type": "code",
   "execution_count": 6,
   "id": "37726142-8cc2-439e-9e12-f9dda4ec3687",
   "metadata": {},
   "outputs": [
    {
     "data": {
      "image/png": "[encoded data removed]",
      "text/plain": [
       "<Figure size 640x480 with 1 Axes>"
      ]
     },
     "metadata": {},
     "output_type": "display_data"
    }
   ],
   "source": [
    "# Ratings distribution\n",
    "sns.countplot(x=\"rating\", data=ratings, hue=\"rating\",palette=\"coolwarm\")\n",
    "plt.title(\"Ratings Distribution\")\n",
    "plt.xlabel(\"Rating\")\n",
    "plt.ylabel(\"Count\")\n",
    "plt.show()"
   ]
  },
  {
   "cell_type": "code",
   "execution_count": 7,
   "id": "ea8fe511-a85d-4b2f-b20b-1ad3eaaca720",
   "metadata": {},
   "outputs": [
    {
     "data": {
      "image/png": "[encoded data removed]",
      "text/plain": [
       "<Figure size 640x480 with 1 Axes>"
      ]
     },
     "metadata": {},
     "output_type": "display_data"
    }
   ],
   "source": [
    "# Top 10 Movies by Number of Ratings\n",
    "top_movies = (\n",
    "    ratings.groupby(\"movieId\")[\"rating\"]\n",
    "    .count()\n",
    "    .reset_index()\n",
    "    .merge(movies, on=\"movieId\")\n",
    "    .sort_values(\"rating\", ascending=False)\n",
    "    .head(10)\n",
    ")\n",
    "\n",
    "sns.barplot( x=\"rating\", y=\"title\",hue='rating', data=top_movies, palette=\"coolwarm\")\n",
    "plt.title(\"Top 10 Movies by Number of Ratings\")\n",
    "plt.xlabel(\"Number of Ratings\")\n",
    "plt.ylabel(\"Movie Title\")\n",
    "plt.show()"
   ]
  },
  {
   "cell_type": "code",
   "execution_count": 8,
   "id": "62b7df0b-c41e-4144-a8ce-45a24d0f9ac3",
   "metadata": {},
   "outputs": [
    {
     "data": {
      "image/png": "[encoded data removed]",
      "text/plain": [
       "<Figure size 640x480 with 1 Axes>"
      ]
     },
     "metadata": {},
     "output_type": "display_data"
    }
   ],
   "source": [
    "# Average rating per genre\n",
    "movies_ratings = pd.merge(ratings, movies, on=\"movieId\")\n",
    "genre_avg = (\n",
    "    movies_ratings.assign(genres=movies_ratings[\"genres\"].str.split(\"|\"))\n",
    "    .explode(\"genres\")\n",
    "    .groupby(\"genres\")[\"rating\"].mean()\n",
    "    .sort_values(ascending=False)\n",
    ")\n",
    "\n",
    "\n",
    "genre_avg.plot(kind=\"barh\", color=\"skyblue\")\n",
    "plt.title(\"Average Rating per Genre\")\n",
    "plt.xlabel(\"Average Rating\")\n",
    "plt.show()"
   ]
  },
  {
   "cell_type": "code",
   "execution_count": null,
   "id": "5ecf8ae7-33e2-4d30-988d-f6e58264ceb8",
   "metadata": {},
   "outputs": [],
   "source": []
  },
  {
   "cell_type": "markdown",
   "id": "474c8d62-b992-4407-a719-28e20efa0791",
   "metadata": {},
   "source": [
    " ## 3. Data Preparation\n",
    " "
   ]
  },
  {
   "cell_type": "code",
   "execution_count": 9,
   "id": "53052a37-554b-4224-b0e7-c019b48a92db",
   "metadata": {},
   "outputs": [],
   "source": [
    "# Build User-Item Matrix\n",
    "user_item = ratings.pivot(index=\"userId\", columns=\"movieId\", values=\"rating\").fillna(0)"
   ]
  },
  {
   "cell_type": "code",
   "execution_count": 10,
   "id": "0fe06250-dd4b-481c-baf0-acf25564a923",
   "metadata": {},
   "outputs": [],
   "source": [
    "# Aggregate tags for content-based\n",
    "movie_tags = tags.groupby(\"movieId\")[\"tag\"].apply(lambda x: \" \".join(x)).reindex(movies[\"movieId\"]).fillna(\"\")"
   ]
  },
  {
   "cell_type": "code",
   "execution_count": 11,
   "id": "7fffcbc6-3c19-4dfe-a3f8-bc5a92cd1a4d",
   "metadata": {},
   "outputs": [],
   "source": [
    "# Merge movies and tags on movieId\n",
    "movies_with_tags = movies.merge(movie_tags, on=\"movieId\", how=\"left\")\n",
    "\n",
    "# Fill NaN tags with empty string\n",
    "movies_with_tags[\"tag\"] = movies_with_tags[\"tag\"].fillna(\"\")\n",
    "\n",
    "# Create text field for TF-IDF\n",
    "item_text = (\n",
    "    movies_with_tags[\"title\"].fillna(\"\") + \" \" +\n",
    "    movies_with_tags[\"genres\"].str.replace(\"|\", \" \") + \" \" +\n",
    "    movies_with_tags[\"tag\"]\n",
    ")\n"
   ]
  },
  {
   "cell_type": "code",
   "execution_count": 12,
   "id": "3b6702ef-5e76-4e8a-a090-fe3d5dc18232",
   "metadata": {},
   "outputs": [],
   "source": [
    "# Pre-compute similarities\n",
    "collab_sim = cosine_similarity(user_item.T)\n",
    "collab_sim_df = pd.DataFrame(collab_sim, index=user_item.columns, columns=user_item.columns)\n",
    "\n",
    "tfidf = TfidfVectorizer(stop_words=\"english\")\n",
    "item_tfidf = tfidf.fit_transform(item_text)\n",
    "content_sim = cosine_similarity(item_tfidf, item_tfidf)\n",
    "content_sim_df = pd.DataFrame(content_sim, index=movies[\"movieId\"], columns=movies[\"movieId\"])\n"
   ]
  },
  {
   "cell_type": "code",
   "execution_count": null,
   "id": "d9266f7e-7d2b-4d53-8fa9-52a12efdca7d",
   "metadata": {},
   "outputs": [],
   "source": []
  },
  {
   "cell_type": "markdown",
   "id": "305ea9ec-71c2-48b4-9148-dc28b35b5e6d",
   "metadata": {},
   "source": [
    "## 4. Content-Based Filtering (TF-IDF)"
   ]
  },
  {
   "cell_type": "code",
   "execution_count": 13,
   "id": "5a06aa89-5fea-4674-9573-ef20bc4c2c19",
   "metadata": {},
   "outputs": [],
   "source": [
    "def recommend_content_based_movies(movie_title, top_n=5):\n",
    "    \"\"\"\n",
    "    Recommend movies using **Content-Based Filtering**.\n",
    "    This function uses TF-IDF vectorization and cosine similarity on movie\n",
    "    metadata (genres + tags) to recommend movies similar to a given title.\n",
    "\n",
    "    Parameters:\n",
    "    movie_title : str\n",
    "        The title of the input movie for which recommendations are generated.\n",
    "    top_n : int, optional (default=5)\n",
    "        Number of top similar movies to return.\n",
    "\n",
    "    Returns:\n",
    "        DataFrame containing the top-N recommended movies with: Movie title and Movie genres\n",
    "    \"\"\"\n",
    "    movie_id = movies[movies[\"title\"].str.contains(movie_title, case=False, regex=False)][\"movieId\"].values[0]\n",
    "    similar_scores = content_sim_df[movie_id].sort_values(ascending=False)[1 : top_n + 1]\n",
    "    return movies[movies[\"movieId\"].isin(similar_scores.index)][[\"title\", \"genres\"]]\n"
   ]
  },
  {
   "cell_type": "code",
   "execution_count": 14,
   "id": "c1937343-159f-4806-a3ce-947333c699ce",
   "metadata": {},
   "outputs": [
    {
     "name": "stdout",
     "output_type": "stream",
     "text": [
      "\n",
      "Content-Based Recommendations for 'Toy Story (1995)':\n"
     ]
    },
    {
     "data": {
      "text/html": [
       "<div>\n",
       "<style scoped>\n",
       "    .dataframe tbody tr th:only-of-type {\n",
       "        vertical-align: middle;\n",
       "    }\n",
       "\n",
       "    .dataframe tbody tr th {\n",
       "        vertical-align: top;\n",
       "    }\n",
       "\n",
       "    .dataframe thead th {\n",
       "        text-align: right;\n",
       "    }\n",
       "</style>\n",
       "<table border=\"1\" class=\"dataframe\">\n",
       "  <thead>\n",
       "    <tr style=\"text-align: right;\">\n",
       "      <th></th>\n",
       "      <th>title</th>\n",
       "      <th>genres</th>\n",
       "    </tr>\n",
       "  </thead>\n",
       "  <tbody>\n",
       "    <tr>\n",
       "      <th>1757</th>\n",
       "      <td>Bug's Life, A (1998)</td>\n",
       "      <td>Adventure|Animation|Children|Comedy</td>\n",
       "    </tr>\n",
       "    <tr>\n",
       "      <th>2355</th>\n",
       "      <td>Toy Story 2 (1999)</td>\n",
       "      <td>Adventure|Animation|Children|Comedy|Fantasy</td>\n",
       "    </tr>\n",
       "    <tr>\n",
       "      <th>3595</th>\n",
       "      <td>Toy, The (1982)</td>\n",
       "      <td>Comedy</td>\n",
       "    </tr>\n",
       "    <tr>\n",
       "      <th>7039</th>\n",
       "      <td>Up (2009)</td>\n",
       "      <td>Adventure|Animation|Children|Drama</td>\n",
       "    </tr>\n",
       "    <tr>\n",
       "      <th>7355</th>\n",
       "      <td>Toy Story 3 (2010)</td>\n",
       "      <td>Adventure|Animation|Children|Comedy|Fantasy|IMAX</td>\n",
       "    </tr>\n",
       "  </tbody>\n",
       "</table>\n",
       "</div>"
      ],
      "text/plain": [
       "                     title                                            genres\n",
       "1757  Bug's Life, A (1998)               Adventure|Animation|Children|Comedy\n",
       "2355    Toy Story 2 (1999)       Adventure|Animation|Children|Comedy|Fantasy\n",
       "3595       Toy, The (1982)                                            Comedy\n",
       "7039             Up (2009)                Adventure|Animation|Children|Drama\n",
       "7355    Toy Story 3 (2010)  Adventure|Animation|Children|Comedy|Fantasy|IMAX"
      ]
     },
     "execution_count": 14,
     "metadata": {},
     "output_type": "execute_result"
    }
   ],
   "source": [
    "print(\"\\nContent-Based Recommendations for 'Toy Story (1995)':\")\n",
    "recommend_content_based_movies(\"Toy Story (1995)\")"
   ]
  },
  {
   "cell_type": "code",
   "execution_count": 15,
   "id": "1434dffd-ecc3-4cc8-a403-e5d34866d3b1",
   "metadata": {},
   "outputs": [
    {
     "name": "stdout",
     "output_type": "stream",
     "text": [
      "\n",
      "Content-Based Recommendations for 'Screamers (1995)':\n"
     ]
    },
    {
     "data": {
      "text/html": [
       "<div>\n",
       "<style scoped>\n",
       "    .dataframe tbody tr th:only-of-type {\n",
       "        vertical-align: middle;\n",
       "    }\n",
       "\n",
       "    .dataframe tbody tr th {\n",
       "        vertical-align: top;\n",
       "    }\n",
       "\n",
       "    .dataframe thead th {\n",
       "        text-align: right;\n",
       "    }\n",
       "</style>\n",
       "<table border=\"1\" class=\"dataframe\">\n",
       "  <thead>\n",
       "    <tr style=\"text-align: right;\">\n",
       "      <th></th>\n",
       "      <th>title</th>\n",
       "      <th>genres</th>\n",
       "    </tr>\n",
       "  </thead>\n",
       "  <tbody>\n",
       "    <tr>\n",
       "      <th>167</th>\n",
       "      <td>Strange Days (1995)</td>\n",
       "      <td>Action|Crime|Drama|Mystery|Sci-Fi|Thriller</td>\n",
       "    </tr>\n",
       "    <tr>\n",
       "      <th>176</th>\n",
       "      <td>Waterworld (1995)</td>\n",
       "      <td>Action|Adventure|Sci-Fi</td>\n",
       "    </tr>\n",
       "    <tr>\n",
       "      <th>253</th>\n",
       "      <td>Outbreak (1995)</td>\n",
       "      <td>Action|Drama|Sci-Fi|Thriller</td>\n",
       "    </tr>\n",
       "    <tr>\n",
       "      <th>3569</th>\n",
       "      <td>One, The (2001)</td>\n",
       "      <td>Action|Sci-Fi|Thriller</td>\n",
       "    </tr>\n",
       "    <tr>\n",
       "      <th>6425</th>\n",
       "      <td>Next (2007)</td>\n",
       "      <td>Action|Sci-Fi|Thriller</td>\n",
       "    </tr>\n",
       "  </tbody>\n",
       "</table>\n",
       "</div>"
      ],
      "text/plain": [
       "                    title                                      genres\n",
       "167   Strange Days (1995)  Action|Crime|Drama|Mystery|Sci-Fi|Thriller\n",
       "176     Waterworld (1995)                     Action|Adventure|Sci-Fi\n",
       "253       Outbreak (1995)                Action|Drama|Sci-Fi|Thriller\n",
       "3569      One, The (2001)                      Action|Sci-Fi|Thriller\n",
       "6425          Next (2007)                      Action|Sci-Fi|Thriller"
      ]
     },
     "execution_count": 15,
     "metadata": {},
     "output_type": "execute_result"
    }
   ],
   "source": [
    "print(\"\\nContent-Based Recommendations for 'Screamers (1995)':\")\n",
    "recommend_content_based_movies(\"Screamers (1995)\")"
   ]
  },
  {
   "cell_type": "code",
   "execution_count": null,
   "id": "c57dc341-c5cc-49ef-bab2-109ce853d0cd",
   "metadata": {},
   "outputs": [],
   "source": []
  },
  {
   "cell_type": "markdown",
   "id": "9f8708d6-6ac9-47c1-8913-cea74053d523",
   "metadata": {},
   "source": [
    "## 5. Collaborative Filtering (Item-based Similarity)"
   ]
  },
  {
   "cell_type": "code",
   "execution_count": 16,
   "id": "7271f899-476a-4ed1-83d7-372af967cff4",
   "metadata": {},
   "outputs": [],
   "source": [
    "\n",
    "def recommend_userrating_based_movies(movie_title, top_n=5):\n",
    "    \"\"\"\n",
    "    Recommend movies using **Collaborative Filtering (Item-Based Similarity)**.\n",
    "    This function computes cosine similarity between movies based on user ratings.\n",
    "    It then recommends movies that were rated similarly by users to the given title.\n",
    "\n",
    "    Parameters:\n",
    "    movie_title : str\n",
    "        The title of the input movie for which recommendations are generated.\n",
    "    top_n : int, optional (default=5)\n",
    "        Number of top similar movies to return.\n",
    "\n",
    "    Returns:\n",
    "        DataFrame containing the top-N recommended movies with: Movie title and Movie genres\n",
    "    \"\"\"\n",
    "    movie_id = movies[movies[\"title\"].str.contains(movie_title, case=False, regex=False)][\"movieId\"].values[0]\n",
    "    similar_scores = collab_sim_df[movie_id].sort_values(ascending=False)[1 : top_n + 1]\n",
    "    return movies[movies[\"movieId\"].isin(similar_scores.index)][[\"title\", \"genres\"]]"
   ]
  },
  {
   "cell_type": "code",
   "execution_count": 17,
   "id": "97160b58-8c79-4156-b2e0-46e6fa1d47dc",
   "metadata": {},
   "outputs": [
    {
     "name": "stdout",
     "output_type": "stream",
     "text": [
      "\n",
      "User Rating based Collaborative Recommendations for 'Toy Story (1995)':\n"
     ]
    },
    {
     "data": {
      "text/html": [
       "<div>\n",
       "<style scoped>\n",
       "    .dataframe tbody tr th:only-of-type {\n",
       "        vertical-align: middle;\n",
       "    }\n",
       "\n",
       "    .dataframe tbody tr th {\n",
       "        vertical-align: top;\n",
       "    }\n",
       "\n",
       "    .dataframe thead th {\n",
       "        text-align: right;\n",
       "    }\n",
       "</style>\n",
       "<table border=\"1\" class=\"dataframe\">\n",
       "  <thead>\n",
       "    <tr style=\"text-align: right;\">\n",
       "      <th></th>\n",
       "      <th>title</th>\n",
       "      <th>genres</th>\n",
       "    </tr>\n",
       "  </thead>\n",
       "  <tbody>\n",
       "    <tr>\n",
       "      <th>224</th>\n",
       "      <td>Star Wars: Episode IV - A New Hope (1977)</td>\n",
       "      <td>Action|Adventure|Sci-Fi</td>\n",
       "    </tr>\n",
       "    <tr>\n",
       "      <th>314</th>\n",
       "      <td>Forrest Gump (1994)</td>\n",
       "      <td>Comedy|Drama|Romance|War</td>\n",
       "    </tr>\n",
       "    <tr>\n",
       "      <th>418</th>\n",
       "      <td>Jurassic Park (1993)</td>\n",
       "      <td>Action|Adventure|Sci-Fi|Thriller</td>\n",
       "    </tr>\n",
       "    <tr>\n",
       "      <th>615</th>\n",
       "      <td>Independence Day (a.k.a. ID4) (1996)</td>\n",
       "      <td>Action|Adventure|Sci-Fi|Thriller</td>\n",
       "    </tr>\n",
       "    <tr>\n",
       "      <th>2355</th>\n",
       "      <td>Toy Story 2 (1999)</td>\n",
       "      <td>Adventure|Animation|Children|Comedy|Fantasy</td>\n",
       "    </tr>\n",
       "  </tbody>\n",
       "</table>\n",
       "</div>"
      ],
      "text/plain": [
       "                                          title  \\\n",
       "224   Star Wars: Episode IV - A New Hope (1977)   \n",
       "314                         Forrest Gump (1994)   \n",
       "418                        Jurassic Park (1993)   \n",
       "615        Independence Day (a.k.a. ID4) (1996)   \n",
       "2355                         Toy Story 2 (1999)   \n",
       "\n",
       "                                           genres  \n",
       "224                       Action|Adventure|Sci-Fi  \n",
       "314                      Comedy|Drama|Romance|War  \n",
       "418              Action|Adventure|Sci-Fi|Thriller  \n",
       "615              Action|Adventure|Sci-Fi|Thriller  \n",
       "2355  Adventure|Animation|Children|Comedy|Fantasy  "
      ]
     },
     "execution_count": 17,
     "metadata": {},
     "output_type": "execute_result"
    }
   ],
   "source": [
    "print(\"\\nUser Rating based Collaborative Recommendations for 'Toy Story (1995)':\")\n",
    "recommend_userrating_based_movies(\"Toy Story (1995)\")"
   ]
  },
  {
   "cell_type": "code",
   "execution_count": 18,
   "id": "8d85932b-45ac-4b60-918f-7ae2936d9541",
   "metadata": {},
   "outputs": [
    {
     "name": "stdout",
     "output_type": "stream",
     "text": [
      "\n",
      "User Rating based Collaborative Recommendations for 'Screamers (1995)':\n"
     ]
    },
    {
     "data": {
      "text/html": [
       "<div>\n",
       "<style scoped>\n",
       "    .dataframe tbody tr th:only-of-type {\n",
       "        vertical-align: middle;\n",
       "    }\n",
       "\n",
       "    .dataframe tbody tr th {\n",
       "        vertical-align: top;\n",
       "    }\n",
       "\n",
       "    .dataframe thead th {\n",
       "        text-align: right;\n",
       "    }\n",
       "</style>\n",
       "<table border=\"1\" class=\"dataframe\">\n",
       "  <thead>\n",
       "    <tr style=\"text-align: right;\">\n",
       "      <th></th>\n",
       "      <th>title</th>\n",
       "      <th>genres</th>\n",
       "    </tr>\n",
       "  </thead>\n",
       "  <tbody>\n",
       "    <tr>\n",
       "      <th>59</th>\n",
       "      <td>Lawnmower Man 2: Beyond Cyberspace (1996)</td>\n",
       "      <td>Action|Sci-Fi|Thriller</td>\n",
       "    </tr>\n",
       "    <tr>\n",
       "      <th>149</th>\n",
       "      <td>Lord of Illusions (1995)</td>\n",
       "      <td>Horror</td>\n",
       "    </tr>\n",
       "    <tr>\n",
       "      <th>555</th>\n",
       "      <td>Bloodsport 2 (a.k.a. Bloodsport II: The Next K...</td>\n",
       "      <td>Action</td>\n",
       "    </tr>\n",
       "    <tr>\n",
       "      <th>574</th>\n",
       "      <td>Quest, The (1996)</td>\n",
       "      <td>Action|Adventure</td>\n",
       "    </tr>\n",
       "    <tr>\n",
       "      <th>669</th>\n",
       "      <td>First Kid (1996)</td>\n",
       "      <td>Children|Comedy</td>\n",
       "    </tr>\n",
       "  </tbody>\n",
       "</table>\n",
       "</div>"
      ],
      "text/plain": [
       "                                                 title                  genres\n",
       "59           Lawnmower Man 2: Beyond Cyberspace (1996)  Action|Sci-Fi|Thriller\n",
       "149                           Lord of Illusions (1995)                  Horror\n",
       "555  Bloodsport 2 (a.k.a. Bloodsport II: The Next K...                  Action\n",
       "574                                  Quest, The (1996)        Action|Adventure\n",
       "669                                   First Kid (1996)         Children|Comedy"
      ]
     },
     "execution_count": 18,
     "metadata": {},
     "output_type": "execute_result"
    }
   ],
   "source": [
    "print(\"\\nUser Rating based Collaborative Recommendations for 'Screamers (1995)':\")\n",
    "recommend_userrating_based_movies(\"Screamers (1995)\")"
   ]
  },
  {
   "cell_type": "code",
   "execution_count": null,
   "id": "8cc9e51b-a681-4f10-add9-bfec399dd942",
   "metadata": {},
   "outputs": [],
   "source": []
  },
  {
   "cell_type": "markdown",
   "id": "0cea1448-2662-4ee3-86ca-c356e0d13795",
   "metadata": {},
   "source": [
    "## 6. Hybrid Recommendation"
   ]
  },
  {
   "cell_type": "code",
   "execution_count": 19,
   "id": "ca4f3f48-1459-495f-be7a-3a44806cb977",
   "metadata": {},
   "outputs": [],
   "source": [
    "def recommend_hybrid_movies(movie_title, top_n=5):\n",
    "    \"\"\"\n",
    "    Recommend movies using a **Hybrid Model** (Content + Collaborative Filtering).\n",
    "    This function averages similarity scores from both content-basedand collaborative filtering methods, \n",
    "    producing a balanced recommendation list that leverages both metadata similarity and user rating patterns.\n",
    "\n",
    "    Parameters:\n",
    "    movie_title : str\n",
    "        The title of the input movie for which recommendations are generated.\n",
    "    top_n : int, optional (default=5)\n",
    "        Number of top similar movies to return.\n",
    "\n",
    "    Returns:\n",
    "    pandas.DataFrame\n",
    "         DataFrame containing the top-N recommended movies with: Movie title and Movie genres   \n",
    "    \"\"\"\n",
    "    movie_id = movies[movies[\"title\"].str.contains(movie_title, case=False, regex=False)][\"movieId\"].values[0]\n",
    "\n",
    "    cb_scores = content_sim_df[movie_id]\n",
    "    cf_scores = collab_sim_df[movie_id]\n",
    "\n",
    "    # Average the two\n",
    "    hybrid_scores = (cb_scores + cf_scores) / 2.0\n",
    "    similar_scores = hybrid_scores.sort_values(ascending=False)[1 : top_n + 1]\n",
    "\n",
    "    return movies[movies[\"movieId\"].isin(similar_scores.index)][[\"title\", \"genres\"]]"
   ]
  },
  {
   "cell_type": "code",
   "execution_count": 20,
   "id": "7ddbae8e-7c00-4fc2-a84e-c1a7eee6b1cf",
   "metadata": {},
   "outputs": [
    {
     "name": "stdout",
     "output_type": "stream",
     "text": [
      "\n",
      "Hybrid Recommendations for 'Toy Story (1995)':\n"
     ]
    },
    {
     "data": {
      "text/html": [
       "<div>\n",
       "<style scoped>\n",
       "    .dataframe tbody tr th:only-of-type {\n",
       "        vertical-align: middle;\n",
       "    }\n",
       "\n",
       "    .dataframe tbody tr th {\n",
       "        vertical-align: top;\n",
       "    }\n",
       "\n",
       "    .dataframe thead th {\n",
       "        text-align: right;\n",
       "    }\n",
       "</style>\n",
       "<table border=\"1\" class=\"dataframe\">\n",
       "  <thead>\n",
       "    <tr style=\"text-align: right;\">\n",
       "      <th></th>\n",
       "      <th>title</th>\n",
       "      <th>genres</th>\n",
       "    </tr>\n",
       "  </thead>\n",
       "  <tbody>\n",
       "    <tr>\n",
       "      <th>1757</th>\n",
       "      <td>Bug's Life, A (1998)</td>\n",
       "      <td>Adventure|Animation|Children|Comedy</td>\n",
       "    </tr>\n",
       "    <tr>\n",
       "      <th>2355</th>\n",
       "      <td>Toy Story 2 (1999)</td>\n",
       "      <td>Adventure|Animation|Children|Comedy|Fantasy</td>\n",
       "    </tr>\n",
       "    <tr>\n",
       "      <th>3194</th>\n",
       "      <td>Shrek (2001)</td>\n",
       "      <td>Adventure|Animation|Children|Comedy|Fantasy|Ro...</td>\n",
       "    </tr>\n",
       "    <tr>\n",
       "      <th>3568</th>\n",
       "      <td>Monsters, Inc. (2001)</td>\n",
       "      <td>Adventure|Animation|Children|Comedy|Fantasy</td>\n",
       "    </tr>\n",
       "    <tr>\n",
       "      <th>7355</th>\n",
       "      <td>Toy Story 3 (2010)</td>\n",
       "      <td>Adventure|Animation|Children|Comedy|Fantasy|IMAX</td>\n",
       "    </tr>\n",
       "  </tbody>\n",
       "</table>\n",
       "</div>"
      ],
      "text/plain": [
       "                      title                                             genres\n",
       "1757   Bug's Life, A (1998)                Adventure|Animation|Children|Comedy\n",
       "2355     Toy Story 2 (1999)        Adventure|Animation|Children|Comedy|Fantasy\n",
       "3194           Shrek (2001)  Adventure|Animation|Children|Comedy|Fantasy|Ro...\n",
       "3568  Monsters, Inc. (2001)        Adventure|Animation|Children|Comedy|Fantasy\n",
       "7355     Toy Story 3 (2010)   Adventure|Animation|Children|Comedy|Fantasy|IMAX"
      ]
     },
     "execution_count": 20,
     "metadata": {},
     "output_type": "execute_result"
    }
   ],
   "source": [
    "print(\"\\nHybrid Recommendations for 'Toy Story (1995)':\")\n",
    "recommend_hybrid_movies(\"Toy Story (1995)\")"
   ]
  },
  {
   "cell_type": "code",
   "execution_count": 21,
   "id": "97b58071-e618-4e6b-a768-9366577b478b",
   "metadata": {},
   "outputs": [
    {
     "name": "stdout",
     "output_type": "stream",
     "text": [
      "\n",
      "Hybrid Recommendations for 'Screamers (1995)':\n"
     ]
    },
    {
     "data": {
      "text/html": [
       "<div>\n",
       "<style scoped>\n",
       "    .dataframe tbody tr th:only-of-type {\n",
       "        vertical-align: middle;\n",
       "    }\n",
       "\n",
       "    .dataframe tbody tr th {\n",
       "        vertical-align: top;\n",
       "    }\n",
       "\n",
       "    .dataframe thead th {\n",
       "        text-align: right;\n",
       "    }\n",
       "</style>\n",
       "<table border=\"1\" class=\"dataframe\">\n",
       "  <thead>\n",
       "    <tr style=\"text-align: right;\">\n",
       "      <th></th>\n",
       "      <th>title</th>\n",
       "      <th>genres</th>\n",
       "    </tr>\n",
       "  </thead>\n",
       "  <tbody>\n",
       "    <tr>\n",
       "      <th>5</th>\n",
       "      <td>Heat (1995)</td>\n",
       "      <td>Action|Crime|Thriller</td>\n",
       "    </tr>\n",
       "    <tr>\n",
       "      <th>23</th>\n",
       "      <td>Powder (1995)</td>\n",
       "      <td>Drama|Sci-Fi</td>\n",
       "    </tr>\n",
       "    <tr>\n",
       "      <th>59</th>\n",
       "      <td>Lawnmower Man 2: Beyond Cyberspace (1996)</td>\n",
       "      <td>Action|Sci-Fi|Thriller</td>\n",
       "    </tr>\n",
       "    <tr>\n",
       "      <th>567</th>\n",
       "      <td>Solo (1996)</td>\n",
       "      <td>Action|Sci-Fi|Thriller</td>\n",
       "    </tr>\n",
       "    <tr>\n",
       "      <th>595</th>\n",
       "      <td>Barb Wire (1996)</td>\n",
       "      <td>Action|Sci-Fi</td>\n",
       "    </tr>\n",
       "  </tbody>\n",
       "</table>\n",
       "</div>"
      ],
      "text/plain": [
       "                                         title                  genres\n",
       "5                                  Heat (1995)   Action|Crime|Thriller\n",
       "23                               Powder (1995)            Drama|Sci-Fi\n",
       "59   Lawnmower Man 2: Beyond Cyberspace (1996)  Action|Sci-Fi|Thriller\n",
       "567                                Solo (1996)  Action|Sci-Fi|Thriller\n",
       "595                           Barb Wire (1996)           Action|Sci-Fi"
      ]
     },
     "execution_count": 21,
     "metadata": {},
     "output_type": "execute_result"
    }
   ],
   "source": [
    "print(\"\\nHybrid Recommendations for 'Screamers (1995)':\")\n",
    "recommend_hybrid_movies(\"Screamers (1995)\")"
   ]
  },
  {
   "cell_type": "code",
   "execution_count": null,
   "id": "6ba6437a-eb2e-4487-9a91-67a606e3098d",
   "metadata": {},
   "outputs": [],
   "source": []
  },
  {
   "cell_type": "markdown",
   "id": "424cbe9f-b26d-4b90-9473-7c19c4fece64",
   "metadata": {},
   "source": [
    " ## 7. Movie-Based Evaluation"
   ]
  },
  {
   "cell_type": "markdown",
   "id": "c21f254c-9136-4004-b8fa-9ccdefdbb6fd",
   "metadata": {},
   "source": [
    "- Precision: Precision measures the proportion of retrieved items that are actually relevant.\n",
    "  In this case it tells accuracy of recommendations (how many recommended items are good).\n",
    "- NDCG (Normalized Discounted Cumulative Gain):NDCG measures the quality of the ranking of the recommended items, giving higher weight to relevant items appearing at the top of the list. Here it specifies ranking quality (are the good recommendations at the top?)."
   ]
  },
  {
   "cell_type": "code",
   "execution_count": 22,
   "id": "471045fd-2417-42e0-995b-44065a56c7bb",
   "metadata": {},
   "outputs": [],
   "source": [
    "def evaluate_movie(movie_title, model_func, k=5):\n",
    "    \"\"\"\n",
    "    Evaluate a recommendation model for a given movie.\n",
    "    This function computes two ranking metrics (Precision@k and NDCG@k) to evaluate how well a recommender performs on a specific \n",
    "    input movie. The evaluation is based on the overlap between recommended movies and movies liked by users who also liked the given movie.\n",
    "\n",
    "    Parameters:\n",
    "    movie_title : str\n",
    "        The title of the movie to use as input for recommendations.\n",
    "    model_func : function\n",
    "        The recommendation function (e.g., recommend_content_movies, \n",
    "        recommend_collab_movies, or recommend_hybrid_movies).\n",
    "    k : int, optional (default=5)\n",
    "        Number of top recommended movies to consider for evaluation.\n",
    "\n",
    "    Returns:\n",
    "    dict\n",
    "        Dictionary with the following keys:\n",
    "        - 'precision' : float\n",
    "            Proportion of top-k recommended movies that are relevant.\n",
    "        - 'ndcg' : float\n",
    "            Normalized Discounted Cumulative Gain, measuring the ranking quality \n",
    "            of the recommendations.\n",
    "    \"\"\"\n",
    "    # find movieId\n",
    "    movie_id = movies.loc[movies[\"title\"].str.contains(movie_title, case=False, regex=False), \"movieId\"].iloc[0]\n",
    "\n",
    "    # relevant = movies liked by users who liked input movie\n",
    "    users = ratings[(ratings[\"movieId\"] == movie_id) & (ratings[\"rating\"] >= 4)][\"userId\"].unique()\n",
    "    relevant = set(ratings[(ratings[\"userId\"].isin(users)) & (ratings[\"rating\"] >= 4)][\"movieId\"]) - {movie_id}\n",
    "    if not relevant: return None\n",
    "\n",
    "    # recommended ids\n",
    "    rec_ids = movies[movies[\"title\"].isin(model_func(movie_title, top_n=k)[\"title\"])][\"movieId\"].tolist()\n",
    "\n",
    "    # inline metrics\n",
    "    precision = len(set(rec_ids[:k]) & relevant) / k\n",
    "    dcg = sum([1/np.log2(i+2) if rec in relevant else 0 for i, rec in enumerate(rec_ids[:k])])\n",
    "    idcg = sum([1/np.log2(i+2) for i in range(min(len(relevant), k))])\n",
    "    ndcg = dcg / idcg if idcg > 0 else 0\n",
    "\n",
    "    return {\"precision\": precision, \"ndcg\": ndcg}\n",
    "\n",
    "\n",
    "def compare_models_for_movie(movie_title, k=5):\n",
    "    return pd.DataFrame({\n",
    "        \"Content-Based\": evaluate_movie(movie_title, recommend_content_based_movies, k),\n",
    "        \"UserRating-Based\": evaluate_movie(movie_title, recommend_userrating_based_movies, k),\n",
    "        \"Hybrid\": evaluate_movie(movie_title, recommend_hybrid_movies, k)\n",
    "    }).T\n"
   ]
  },
  {
   "cell_type": "code",
   "execution_count": 23,
   "id": "2d893242-5c44-4071-be9a-441a3f356db6",
   "metadata": {},
   "outputs": [
    {
     "name": "stdout",
     "output_type": "stream",
     "text": [
      "\n",
      "Evaluation Metrics for 'Toy Story (1995)':\n"
     ]
    },
    {
     "data": {
      "text/html": [
       "<div>\n",
       "<style scoped>\n",
       "    .dataframe tbody tr th:only-of-type {\n",
       "        vertical-align: middle;\n",
       "    }\n",
       "\n",
       "    .dataframe tbody tr th {\n",
       "        vertical-align: top;\n",
       "    }\n",
       "\n",
       "    .dataframe thead th {\n",
       "        text-align: right;\n",
       "    }\n",
       "</style>\n",
       "<table border=\"1\" class=\"dataframe\">\n",
       "  <thead>\n",
       "    <tr style=\"text-align: right;\">\n",
       "      <th></th>\n",
       "      <th>precision</th>\n",
       "      <th>ndcg</th>\n",
       "    </tr>\n",
       "  </thead>\n",
       "  <tbody>\n",
       "    <tr>\n",
       "      <th>Content-Based</th>\n",
       "      <td>0.8</td>\n",
       "      <td>0.83042</td>\n",
       "    </tr>\n",
       "    <tr>\n",
       "      <th>UserRating-Based</th>\n",
       "      <td>1.0</td>\n",
       "      <td>1.00000</td>\n",
       "    </tr>\n",
       "    <tr>\n",
       "      <th>Hybrid</th>\n",
       "      <td>1.0</td>\n",
       "      <td>1.00000</td>\n",
       "    </tr>\n",
       "  </tbody>\n",
       "</table>\n",
       "</div>"
      ],
      "text/plain": [
       "                  precision     ndcg\n",
       "Content-Based           0.8  0.83042\n",
       "UserRating-Based        1.0  1.00000\n",
       "Hybrid                  1.0  1.00000"
      ]
     },
     "execution_count": 23,
     "metadata": {},
     "output_type": "execute_result"
    }
   ],
   "source": [
    "print(f\"\\nEvaluation Metrics for 'Toy Story (1995)':\")\n",
    "compare_models_for_movie(\"Toy Story (1995)\")"
   ]
  },
  {
   "cell_type": "code",
   "execution_count": 24,
   "id": "d77b8a8c-44b9-4053-a1b0-d69077376076",
   "metadata": {},
   "outputs": [
    {
     "name": "stdout",
     "output_type": "stream",
     "text": [
      "\n",
      "Evaluation Metrics for 'Screamers (1995)':\n"
     ]
    },
    {
     "data": {
      "text/html": [
       "<div>\n",
       "<style scoped>\n",
       "    .dataframe tbody tr th:only-of-type {\n",
       "        vertical-align: middle;\n",
       "    }\n",
       "\n",
       "    .dataframe tbody tr th {\n",
       "        vertical-align: top;\n",
       "    }\n",
       "\n",
       "    .dataframe thead th {\n",
       "        text-align: right;\n",
       "    }\n",
       "</style>\n",
       "<table border=\"1\" class=\"dataframe\">\n",
       "  <thead>\n",
       "    <tr style=\"text-align: right;\">\n",
       "      <th></th>\n",
       "      <th>precision</th>\n",
       "      <th>ndcg</th>\n",
       "    </tr>\n",
       "  </thead>\n",
       "  <tbody>\n",
       "    <tr>\n",
       "      <th>Content-Based</th>\n",
       "      <td>0.6</td>\n",
       "      <td>0.722727</td>\n",
       "    </tr>\n",
       "    <tr>\n",
       "      <th>UserRating-Based</th>\n",
       "      <td>0.8</td>\n",
       "      <td>0.868795</td>\n",
       "    </tr>\n",
       "    <tr>\n",
       "      <th>Hybrid</th>\n",
       "      <td>1.0</td>\n",
       "      <td>1.000000</td>\n",
       "    </tr>\n",
       "  </tbody>\n",
       "</table>\n",
       "</div>"
      ],
      "text/plain": [
       "                  precision      ndcg\n",
       "Content-Based           0.6  0.722727\n",
       "UserRating-Based        0.8  0.868795\n",
       "Hybrid                  1.0  1.000000"
      ]
     },
     "execution_count": 24,
     "metadata": {},
     "output_type": "execute_result"
    }
   ],
   "source": [
    "print(f\"\\nEvaluation Metrics for 'Screamers (1995)':\")\n",
    "compare_models_for_movie(\"Screamers (1995)\")"
   ]
  },
  {
   "cell_type": "code",
   "execution_count": null,
   "id": "891a8bd4-137f-4468-97d0-4b62a9e14fff",
   "metadata": {},
   "outputs": [],
   "source": []
  }
 ],
 "metadata": {
  "kernelspec": {
   "display_name": "Python [conda env:datascience]",
   "language": "python",
   "name": "conda-env-datascience-py"
  },
  "language_info": {
   "codemirror_mode": {
    "name": "ipython",
    "version": 3
   },
   "file_extension": ".py",
   "mimetype": "text/x-python",
   "name": "python",
   "nbconvert_exporter": "python",
   "pygments_lexer": "ipython3",
   "version": "3.12.11"
  }
 },
 "nbformat": 4,
 "nbformat_minor": 5
}
